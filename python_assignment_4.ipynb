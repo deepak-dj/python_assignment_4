{
  "nbformat": 4,
  "nbformat_minor": 0,
  "metadata": {
    "colab": {
      "provenance": []
    },
    "kernelspec": {
      "name": "python3",
      "display_name": "Python 3"
    },
    "language_info": {
      "name": "python"
    }
  },
  "cells": [
    {
      "cell_type": "markdown",
      "source": [
        "# Python Assignment 4"
      ],
      "metadata": {
        "id": "v6dr_zt2JwQr"
      }
    },
    {
      "cell_type": "markdown",
      "source": [],
      "metadata": {
        "id": "J4BisAfTJvD2"
      }
    },
    {
      "cell_type": "markdown",
      "source": [],
      "metadata": {
        "id": "PQK2-0mcJsIC"
      }
    },
    {
      "cell_type": "markdown",
      "source": [
        "1. What exactly is []?\n",
        "2. In a list of values stored in a variable called spam, how would you assign the value &#39;hello&#39; as the\n",
        "third value? (Assume [2, 4, 6, 8, 10] are in spam.)\n",
        "Let&#39;s pretend the spam includes the list [&#39;a&#39;, &#39;b&#39;, &#39;c&#39;, &#39;d&#39;] for the next three queries.\n",
        "3. What is the value of spam[int(int(&#39;3&#39; * 2) / 11)]?\n",
        "4. What is the value of spam[-1]?\n",
        "5. What is the value of spam[:2]?\n",
        "Let&#39;s pretend bacon has the list [3.14, &#39;cat,&#39; 11, &#39;cat,&#39; True] for the next three questions.\n",
        "6. What is the value of bacon.index(&#39;cat&#39;)?\n",
        "7. How does bacon.append(99) change the look of the list value in bacon?\n",
        "8. How does bacon.remove(&#39;cat&#39;) change the look of the list in bacon?\n",
        "9. What are the list concatenation and list replication operators?\n",
        "10. What is difference between the list methods append() and insert()?\n",
        "11. What are the two methods for removing items from a list?\n",
        "12. Describe how list values and string values are identical.\n",
        "13. What&#39;s the difference between tuples and lists?\n",
        "14. How do you type a tuple value that only contains the integer 42?\n",
        "15. How do you get a list value&#39;s tuple form? How do you get a tuple value&#39;s list form?\n",
        "16. Variables that &quot;contain&quot; list values are not necessarily lists themselves. Instead, what do they\n",
        "contain?\n",
        "17. How do you distinguish between copy.copy() and copy.deepcopy()?"
      ],
      "metadata": {
        "id": "JKO0ru7B_S1q"
      }
    },
    {
      "cell_type": "code",
      "source": [
        "# ques 1\n",
        "# [] is an empty list.\n",
        "\n",
        "x = []\n",
        "type(x)"
      ],
      "metadata": {
        "colab": {
          "base_uri": "https://localhost:8080/"
        },
        "id": "CsIFo1CS_UCh",
        "outputId": "29cd5566-bae1-4c85-ea52-051ec04c7ae1"
      },
      "execution_count": null,
      "outputs": [
        {
          "output_type": "execute_result",
          "data": {
            "text/plain": [
              "list"
            ]
          },
          "metadata": {},
          "execution_count": 1
        }
      ]
    },
    {
      "cell_type": "code",
      "source": [
        "# ques 2\n",
        "spam = [2, 4, 6, 8, 10] \n",
        "spam[2] = 'hello'\n",
        "spam\n"
      ],
      "metadata": {
        "colab": {
          "base_uri": "https://localhost:8080/"
        },
        "id": "dVW4Kdst_lfZ",
        "outputId": "e5059f83-f2bd-480d-cf9d-973527ffaab2"
      },
      "execution_count": null,
      "outputs": [
        {
          "output_type": "execute_result",
          "data": {
            "text/plain": [
              "[2, 4, 'hello', 8, 10]"
            ]
          },
          "metadata": {},
          "execution_count": 2
        }
      ]
    },
    {
      "cell_type": "code",
      "source": [
        "# ques 3\n",
        "\n",
        "spam = ['a','b','c','d']\n",
        "\n",
        "print(spam[int(int('3' * 2) / 11)]) # 'd'\n",
        "\n",
        "# ques 4\n",
        "print(spam[-1]) # 'd'\n",
        "\n",
        "# ques 5\n",
        "print(spam[-2]) # 'c'"
      ],
      "metadata": {
        "colab": {
          "base_uri": "https://localhost:8080/"
        },
        "id": "Vb0ovr3oABO_",
        "outputId": "ebee4762-7f26-47b0-d92a-1358e4c5bf69"
      },
      "execution_count": null,
      "outputs": [
        {
          "output_type": "stream",
          "name": "stdout",
          "text": [
            "d\n",
            "d\n",
            "c\n"
          ]
        }
      ]
    },
    {
      "cell_type": "code",
      "source": [
        "# ques 6\n",
        "\n",
        "''' index method will return the 1st index of a perticular element that you pass as a parameter '''\n",
        "bacon =  [3.14, 'cat', 11, 'cat', True]\n",
        "print(bacon.index('cat')) # 1\n",
        "\n",
        "# ques 7 \n",
        "''' append will add the element in the list at the end '''\n",
        "bacon.append(99)\n",
        "print(f'{bacon}')\n",
        "\n",
        "#ques 8\n",
        "''' remove method will remove the perticular element that you pass as a parameter ''' \n",
        "bacon.remove('cat')\n",
        "print(f'{bacon}')"
      ],
      "metadata": {
        "colab": {
          "base_uri": "https://localhost:8080/"
        },
        "id": "GiyYwNWjASdh",
        "outputId": "eae7384e-f704-4317-bac5-62a5632b3c24"
      },
      "execution_count": null,
      "outputs": [
        {
          "output_type": "stream",
          "name": "stdout",
          "text": [
            "1\n",
            "[3.14, 'cat', 11, 'cat', True, 99]\n",
            "[3.14, 11, 'cat', True, 99]\n"
          ]
        }
      ]
    },
    {
      "cell_type": "code",
      "source": [
        "\n",
        "l = [2,3,4]\n",
        "m = [5,7,8]\n",
        "n = l+m\n",
        "print(n)\n",
        "\n"
      ],
      "metadata": {
        "colab": {
          "base_uri": "https://localhost:8080/"
        },
        "id": "TUGa2LouDh8U",
        "outputId": "b6dd19ad-8df7-45b0-f357-9ebf781f4b85"
      },
      "execution_count": null,
      "outputs": [
        {
          "output_type": "stream",
          "name": "stdout",
          "text": [
            "[2, 3, 4, 5, 7, 8]\n"
          ]
        }
      ]
    },
    {
      "cell_type": "code",
      "source": [
        "# ques 9\n",
        "'''\n",
        "The operator for list concatenation is +, while the operator for replication is *.\n",
        "'''"
      ],
      "metadata": {
        "id": "u51OrTITJGG8"
      },
      "execution_count": null,
      "outputs": []
    },
    {
      "cell_type": "code",
      "source": [
        "# ques 10\n",
        "''' Append add the element always at the end of the list whereas insert add a element at a perticular index \n",
        "    syntax\n",
        "    append(element)\n",
        "    insert(index,element)\n",
        "'''\n",
        "\n",
        "#Append\n",
        "l = [1,2,3,4,5,6] \n",
        "l.append(100)\n",
        "print(l)\n",
        "\n",
        "#Insert\n",
        "\n",
        "l.insert(2,300)\n",
        "print(l)"
      ],
      "metadata": {
        "colab": {
          "base_uri": "https://localhost:8080/"
        },
        "id": "QIhQZIpEBC1I",
        "outputId": "ac41af6f-e472-4be6-c5af-f7d13fff973e"
      },
      "execution_count": null,
      "outputs": [
        {
          "output_type": "stream",
          "name": "stdout",
          "text": [
            "[1, 2, 3, 4, 5, 6, 100]\n",
            "[1, 2, 300, 3, 4, 5, 6, 100]\n"
          ]
        }
      ]
    },
    {
      "cell_type": "code",
      "source": [
        "\n",
        "# ques 11\n",
        "''' there are 2 methods removing the elements from list pop and remove\n",
        "    pop method removes the the last element of the list.\n",
        "    remove method removes the perticular element that passes as a parameter.\n",
        " '''\n",
        "\n",
        "#pop\n",
        "l = [2,4,5,5,6,7,7]\n",
        "l.pop()\n",
        "print(l)\n",
        "\n",
        "#remove\n",
        "l.remove(4)\n",
        "print(l)\n"
      ],
      "metadata": {
        "colab": {
          "base_uri": "https://localhost:8080/"
        },
        "id": "i-y0QEZADF4n",
        "outputId": "70e7ec4a-287c-4607-c01f-e7617a96f37f"
      },
      "execution_count": null,
      "outputs": [
        {
          "output_type": "stream",
          "name": "stdout",
          "text": [
            "[2, 4, 5, 5, 6, 7]\n",
            "[2, 5, 5, 6, 7]\n"
          ]
        }
      ]
    },
    {
      "cell_type": "code",
      "source": [
        "# ques 12\n",
        "'''\n",
        "Both lists and strings are in sequence and can be passed to len(), have indexes and slices, be used in for loops,\n",
        "be concatenated or replicated, and be used with the in and not in operators.\n",
        "'''"
      ],
      "metadata": {
        "id": "-gtaNgb4FEia"
      },
      "execution_count": null,
      "outputs": []
    },
    {
      "cell_type": "code",
      "source": [
        "# ques 13\n",
        "'''\n",
        "        List                                                     Touple\n",
        "      mutable                                                   imutable    \n",
        "    represention - []                                         () or seperate the elements by ,. \n",
        "  \n",
        "'''        \n",
        "\n",
        "list_1 = [1,2,3]\n",
        "touple_1 = (5,6,7)\n",
        "\n",
        "list_1[2]='a'\n",
        "print(list_1)\n",
        "\n",
        "touple_1[2] ='b' # will return TypEerror\n",
        "print(touple_1)"
      ],
      "metadata": {
        "colab": {
          "base_uri": "https://localhost:8080/"
        },
        "id": "oLS6GwWFJbSe",
        "outputId": "6cb8a0ad-f4d5-4c26-f46d-d6c2d7b4db2f"
      },
      "execution_count": null,
      "outputs": [
        {
          "output_type": "stream",
          "name": "stdout",
          "text": [
            "[1, 2, 'a']\n",
            "(5, 6, 7)\n"
          ]
        }
      ]
    },
    {
      "cell_type": "code",
      "source": [
        "# ques 14\n",
        "\n",
        "t = (42,)\n",
        "print(type(t))\n"
      ],
      "metadata": {
        "colab": {
          "base_uri": "https://localhost:8080/"
        },
        "id": "x18Mg_83K9X1",
        "outputId": "3afec9f1-69fc-4dfd-fb57-9c5c59891519"
      },
      "execution_count": null,
      "outputs": [
        {
          "output_type": "stream",
          "name": "stdout",
          "text": [
            "<class 'tuple'>\n"
          ]
        }
      ]
    },
    {
      "cell_type": "code",
      "source": [
        "#  ques 15\n",
        "\n",
        "l = [1,2,4,5,6]\n",
        "t = tuple(l)\n",
        "print(t)\n",
        "\n",
        "\n",
        "t1 = (5,67,7,0)\n",
        "l1 = list(t1) \n",
        "print(l1)"
      ],
      "metadata": {
        "colab": {
          "base_uri": "https://localhost:8080/"
        },
        "id": "gk5CYnaJLh9q",
        "outputId": "509b2eb6-cd5e-44cb-9a5f-a352835aba28"
      },
      "execution_count": null,
      "outputs": [
        {
          "output_type": "stream",
          "name": "stdout",
          "text": [
            "(1, 2, 4, 5, 6)\n",
            "[5, 67, 7, 0]\n"
          ]
        }
      ]
    },
    {
      "cell_type": "code",
      "source": [
        "# ques 16\n",
        "\n",
        "'''\n",
        "Variables will contain references to list values rather than list values themselves.\n",
        "'''"
      ],
      "metadata": {
        "id": "MXcQO6wzMECz"
      },
      "execution_count": null,
      "outputs": []
    },
    {
      "cell_type": "code",
      "source": [
        "# ques  17\n",
        "'''\n",
        "copy.deepcopy() = In the case of deep copy, a copy of the object is copied into another object.\n",
        "It means that any changes made to a copy of the object do not reflect in the original object.\n",
        " \n",
        "copy.copy() =  In the case of shallow copy, a reference of an object is copied into another object.\n",
        "It means that any changes made to a copy of an object do reflect in the original object.\n",
        "'''\n"
      ],
      "metadata": {
        "id": "wMWXSIG2Mx_t"
      },
      "execution_count": null,
      "outputs": []
    },
    {
      "cell_type": "code",
      "source": [],
      "metadata": {
        "id": "R6_hcwxUM1bB"
      },
      "execution_count": null,
      "outputs": []
    }
  ]
}